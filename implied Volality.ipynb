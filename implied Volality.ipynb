{
 "cells": [
  {
   "cell_type": "markdown",
   "id": "a6ffac8e-3a07-45ea-b0ea-a2737d0d278d",
   "metadata": {},
   "source": [
    "# Black-Scholes Implied Volatility Function\n",
    "\n",
    "## Theory\n",
    "\n",
    "The Black-Scholes model is a fundamental tool in options pricing. It provides a theoretical estimate of the price of European-style options. The model assumes that:\n",
    "\n",
    "1. The stock price follows a geometric Brownian motion with constant drift and volatility.\n",
    "2. There are no transaction costs or taxes.\n",
    "3. The risk-free interest rate is constant.\n",
    "4. The stock does not pay a dividend.\n",
    "\n",
    "The Black-Scholes formula for a European call option is:\n",
    "\n",
    "C = S₀N(d₁) - Ke^(-rτ)N(d₂)\n",
    "\n",
    "Where:\n",
    "- C is the call option price\n",
    "- S₀ is the current stock price\n",
    "- K is the strike price\n",
    "- r is the risk-free interest rate\n",
    "- τ is the time to maturity\n",
    "- N(x) is the cumulative distribution function of the standard normal distribution\n",
    "- d₁ = (ln(S₀/K) + (r + σ²/2)τ) / (σ√τ)\n",
    "- d₂ = d₁ - σ√τ\n",
    "\n",
    "The implied volatility is the volatility that, when used in the Black-Scholes formula, gives a theoretical price equal to the market price of the option. It's called \"implied\" because it's derived from the market price, rather than being directly observable.\n",
    "\n",
    "## Code Explanation"
   ]
  },
  {
   "cell_type": "code",
   "execution_count": 63,
   "id": "24853821-64ea-439d-b664-e815032d880d",
   "metadata": {},
   "outputs": [],
   "source": [
    "import  numpy as np \n",
    "import scipy.stats as st\n"
   ]
  },
  {
   "cell_type": "markdown",
   "id": "12c83f1b-aa71-46b9-911d-a7ff74489e65",
   "metadata": {},
   "source": [
    "# intialization of parameters"
   ]
  },
  {
   "cell_type": "code",
   "execution_count": 118,
   "id": "399c1304-4e6a-4be4-9e97-541cc988cfda",
   "metadata": {},
   "outputs": [],
   "source": [
    "V_market = 2    # market call option price\n",
    "K        = 120  # strike\n",
    "tau      = 1    # time-to-maturity\n",
    "r        = 0.05 # interest rate\n",
    "S_0      = 100  # today's stock price\n",
    "sigmaInit    = 0.25  # Initial implied volatility\n",
    "CP       =\"c\" #C is call and P is put"
   ]
  },
  {
   "cell_type": "code",
   "execution_count": 119,
   "id": "242260a6-e830-4e78-a4d7-e8b5f9968136",
   "metadata": {},
   "outputs": [],
   "source": [
    "def ImpliedVolatility(CP,S_0,K,sigma,tau,r):\n",
    "    error    = 1e10; # initial error\n",
    "    #Handy lambda expressions\n",
    "    optPrice = lambda sigma: BS_Call_Option_Price(CP,S_0,K,sigma,tau,r)\n",
    "    vega= lambda sigma: dV_dsigma(S_0,K,sigma,tau,r)\n",
    "\n",
    "    n = 1.0 \n",
    "    while error>10e-10:\n",
    "        g         = optPrice(sigma) - V_market\n",
    "        g_prim    = vega(sigma)\n",
    "        sigma_new = sigma - g / g_prim\n",
    "        #error=abs(sigma_new-sigma)\n",
    "        error=abs(g)\n",
    "        sigma=sigma_new;   \n",
    "        print('iteration {0} with error = {1}'.format(n,error))\n",
    "        n= n+1\n",
    "    return sigma"
   ]
  },
  {
   "cell_type": "markdown",
   "id": "9bed02f9-9491-41a7-b075-9b7b0924e49f",
   "metadata": {},
   "source": [
    "This function uses the Newton-Raphson method to find the implied volatility. It iteratively refines the volatility estimate until the calculated option price matches the market price within a small error threshold.\n",
    "\n",
    "Newton-Raphson Step:\n",
    "Compute the error (g) between the model option price and the market price.\n",
    "Adjust \n",
    "𝜎\n",
    "σ by subtracting the ratio of the error to Vega:\n",
    "𝜎\n",
    "new\n",
    "=\n",
    "σ \n",
    "new\n",
    "​\n",
    " =σ− \n",
    "g/vega\n",
    "\n",
    "​\n",
    "\n",
    "\n",
    "\n",
    "The helper functions are defined as follows:"
   ]
  },
  {
   "cell_type": "markdown",
   "id": "6be3c02b-e99a-4c56-a301-532900fbd57d",
   "metadata": {},
   "source": []
  },
  {
   "cell_type": "code",
   "execution_count": 120,
   "id": "053ab7d6-736b-49fb-8beb-050508c704d1",
   "metadata": {},
   "outputs": [],
   "source": [
    "def dV_dsigma(S_0,K,sigma,tau,r):\n",
    "    #parameters and value of Vega\n",
    "    d2   = (np.log(S_0 / float(K)) + (r - 0.5 * np.power(sigma,2.0)) * tau) / float(sigma * np.sqrt(tau))\n",
    "    value = K * np.exp(-r * tau) * st.norm.pdf(d2) * np.sqrt(tau)\n",
    "    return value\n",
    "def BS_Call_Option_Price(CP,S_0,K,sigma,tau,r):\n",
    "    #Black-Scholes Call option price\n",
    "    d1    = (np.log(S_0 / float(K)) + (r + 0.5 * np.power(sigma,2.0)) * tau) / float(sigma * np.sqrt(tau))\n",
    "    d2    = d1 - sigma * np.sqrt(tau)\n",
    "    if str(CP).lower()==\"c\" or str(CP).lower()==\"1\":\n",
    "        value = st.norm.cdf(d1) * S_0 - st.norm.cdf(d2) * K * np.exp(-r * tau)\n",
    "    elif str(CP).lower()==\"p\" or str(CP).lower()==\"-1\":\n",
    "        value = st.norm.cdf(-d2) * K * np.exp(-r * tau) - st.norm.cdf(-d1)*S_0\n",
    "    return value"
   ]
  },
  {
   "cell_type": "markdown",
   "id": "1ab94317-77dc-47cf-bfc5-a2b648d99c88",
   "metadata": {},
   "source": [
    "`dV_dsigma` calculates the option's vega (sensitivity to volatility), which is used in the Newton-Raphson method.\n",
    "\n",
    "`BS_Call_Option_Price` implements the Black-Scholes formula for both call and put options.\n",
    "\n",
    "Finally, we use these functions to calculate the implied volatility:"
   ]
  },
  {
   "cell_type": "code",
   "execution_count": 121,
   "id": "de1da47f-47a5-4bd1-ba42-b90c8186ca80",
   "metadata": {
    "scrolled": true
   },
   "outputs": [
    {
     "name": "stdout",
     "output_type": "stream",
     "text": [
      "iteration 1.0 with error = 3.025413481792615\n",
      "iteration 2.0 with error = 0.19134998568795325\n",
      "iteration 3.0 with error = 0.0022254541477302325\n",
      "iteration 4.0 with error = 3.353154056640051e-07\n",
      "iteration 5.0 with error = 1.0658141036401503e-14\n",
      "Implied volatility for CallPrice= 2, strike K=120, \n",
      "      maturity T= 1, interest rate r= 0.05 and initial stock S_0=100 \n",
      "      equals to sigma_imp = 0.1614827\n"
     ]
    }
   ],
   "source": [
    "sigma_imp = ImpliedVolatility(CP,S_0,K,sigmaInit,tau,r)\n",
    "message = '''Implied volatility for CallPrice= {}, strike K={}, \n",
    "      maturity T= {}, interest rate r= {} and initial stock S_0={} \n",
    "      equals to sigma_imp = {:.7f}'''.format(V_market,K,tau,r,S_0,sigma_imp)\n",
    "            \n",
    "print(message)"
   ]
  },
  {
   "cell_type": "code",
   "execution_count": 122,
   "id": "f0d3e4c2-5c77-403a-8557-917933fbaef0",
   "metadata": {},
   "outputs": [
    {
     "name": "stdout",
     "output_type": "stream",
     "text": [
      "Option Price for implied volatility of 0.1614827288413938 is equal to 2.0\n"
     ]
    }
   ],
   "source": [
    "val = BS_Call_Option_Price(CP,S_0,K,sigma_imp,tau,r)\n",
    "print('Option Price for implied volatility of {0} is equal to {1}'.format(sigma_imp, val))"
   ]
  },
  {
   "cell_type": "markdown",
   "id": "88157d70-4bd7-4cd6-b7a9-69be82e60edf",
   "metadata": {},
   "source": [
    "This code calculates the implied volatility and then verifies the result by using the calculated implied volatility to price the option, which should match the original market price.\n",
    "\n",
    "## Conclusion\n",
    "\n",
    "This implementation demonstrates how to calculate implied volatility using the Black-Scholes model and the Newton-Raphson method. It's a crucial tool in options trading and risk management, as implied volatility provides insights into market expectations of future stock price volatility."
   ]
  },
  {
   "cell_type": "code",
   "execution_count": null,
   "id": "b6965206-64cf-4af6-a91c-7d00f1285d45",
   "metadata": {},
   "outputs": [],
   "source": []
  },
  {
   "cell_type": "code",
   "execution_count": null,
   "id": "d10e361b-0fbe-465a-829c-e13cb046d634",
   "metadata": {},
   "outputs": [],
   "source": []
  },
  {
   "cell_type": "code",
   "execution_count": null,
   "id": "8b3fa988-2491-4c65-9c10-665198a4643a",
   "metadata": {},
   "outputs": [],
   "source": []
  },
  {
   "cell_type": "code",
   "execution_count": null,
   "id": "4cc0f4d6-800a-4831-857b-c662c08da31f",
   "metadata": {},
   "outputs": [],
   "source": []
  },
  {
   "cell_type": "code",
   "execution_count": 18,
   "id": "07d54e8e-1172-4f1e-afca-91be55f51735",
   "metadata": {},
   "outputs": [
    {
     "data": {
      "text/plain": [
       "0.018750000000000003"
      ]
     },
     "execution_count": 18,
     "metadata": {},
     "output_type": "execute_result"
    }
   ],
   "source": [
    "((r-(sigma*sigma)/2.0)*tau)"
   ]
  },
  {
   "cell_type": "code",
   "execution_count": 19,
   "id": "14e9b381-34f5-4324-adab-f43725ac6759",
   "metadata": {},
   "outputs": [
    {
     "data": {
      "text/plain": [
       "0.018750000000000003"
      ]
     },
     "execution_count": 19,
     "metadata": {},
     "output_type": "execute_result"
    }
   ],
   "source": [
    "((r - 0.5 * np.power(sigma,2.0)) * tau)"
   ]
  },
  {
   "cell_type": "code",
   "execution_count": 25,
   "id": "90ede2ae-46ee-47be-8d58-a1868d4721e9",
   "metadata": {},
   "outputs": [],
   "source": [
    "d2=(np.log(S_0/float(K))+((r-(sigma*sigma)/2)*tau)/float(sigma*np.sqrt(tau)))"
   ]
  },
  {
   "cell_type": "code",
   "execution_count": 26,
   "id": "7c1f0e7e-b6ef-45c2-ada4-f2c96c5e4cd3",
   "metadata": {},
   "outputs": [
    {
     "data": {
      "text/plain": [
       "45.27677696686181"
      ]
     },
     "execution_count": 26,
     "metadata": {},
     "output_type": "execute_result"
    }
   ],
   "source": []
  },
  {
   "cell_type": "code",
   "execution_count": 28,
   "id": "dada1e6b-7db6-4ab2-b7a6-ad36501d1173",
   "metadata": {},
   "outputs": [
    {
     "data": {
      "text/plain": [
       "45.27677696686181"
      ]
     },
     "execution_count": 28,
     "metadata": {},
     "output_type": "execute_result"
    }
   ],
   "source": []
  },
  {
   "cell_type": "code",
   "execution_count": 94,
   "id": "3bd0bb4a-b385-44e8-bbae-1f495f2a0c7b",
   "metadata": {},
   "outputs": [
    {
     "name": "stdout",
     "output_type": "stream",
     "text": [
      "iteration 1.0 with error = 8.805973916005634\n",
      "iteration 2.0 with error = 0.4971232418421323\n",
      "iteration 3.0 with error = 0.012818322580802288\n",
      "iteration 4.0 with error = 1.1054906480012505e-05\n",
      "iteration 5.0 with error = 8.277822871605167e-12\n",
      "Implied volatility for CallPrice= 2, strike K=120, \n",
      "      maturity T= 1, interest rate r= 0.05 and initial stock S_0=100 \n",
      "      equals to sigma_imp = 0.1614827\n",
      "Option Price for implied volatility of 0.16148272884139397 is equal to 1.9999999999999893\n"
     ]
    }
   ],
   "source": [
    "#%%\n",
    "\"\"\"\n",
    "Created on Wed Oct 24 20:37:32 2018\n",
    "Black- Scholes implied volatility function\n",
    "\n",
    "@author: Lech A. Grzelak\n",
    "\"\"\"\n",
    "import numpy as np\n",
    "import scipy.stats as st\n",
    "# Initial parameters and market quotes\n",
    "V_market = 2    # market call option price\n",
    "K        = 120  # strike\n",
    "tau      = 1    # time-to-maturity\n",
    "r        = 0.05 # interest rate\n",
    "S_0      = 100  # today's stock price\n",
    "sigmaInit    = 0.40  # Initial implied volatility\n",
    "CP       =\"c\" #C is call and P is put\n",
    "\n",
    "def ImpliedVolatility(CP,S_0,K,sigma,tau,r):\n",
    "    error    = 1e10; # initial error\n",
    "    #Handy lambda expressions\n",
    "    optPrice = lambda sigma: BS_Call_Option_Price(CP,S_0,K,sigma,tau,r)\n",
    "    vega= lambda sigma: dV_dsigma(S_0,K,sigma,tau,r)\n",
    "    \n",
    "    # While the difference between the model and the arket price is large\n",
    "    # follow the iteration\n",
    "    n = 1.0 \n",
    "    while error>10e-10:\n",
    "        g         = optPrice(sigma) - V_market\n",
    "        g_prim    = vega(sigma)\n",
    "        sigma_new = sigma - g / g_prim\n",
    "    \n",
    "        #error=abs(sigma_new-sigma)\n",
    "        error=abs(g)\n",
    "        sigma=sigma_new;\n",
    "        \n",
    "        print('iteration {0} with error = {1}'.format(n,error))\n",
    "        \n",
    "        n= n+1\n",
    "    return sigma\n",
    "\n",
    "# Vega, dV/dsigma\n",
    "def dV_dsigma(S_0,K,sigma,tau,r):\n",
    "    #parameters and value of Vega\n",
    "    d2   = (np.log(S_0 / float(K)) + (r - 0.5 * np.power(sigma,2.0)) * tau) / float(sigma * np.sqrt(tau))\n",
    "    value = K * np.exp(-r * tau) * st.norm.pdf(d2) * np.sqrt(tau)\n",
    "    return value\n",
    "\n",
    "def BS_Call_Option_Price(CP,S_0,K,sigma,tau,r):\n",
    "    #Black-Scholes Call option price\n",
    "    d1    = (np.log(S_0 / float(K)) + (r + 0.5 * np.power(sigma,2.0)) * tau) / float(sigma * np.sqrt(tau))\n",
    "    d2    = d1 - sigma * np.sqrt(tau)\n",
    "    if str(CP).lower()==\"c\" or str(CP).lower()==\"1\":\n",
    "        value = st.norm.cdf(d1) * S_0 - st.norm.cdf(d2) * K * np.exp(-r * tau)\n",
    "    elif str(CP).lower()==\"p\" or str(CP).lower()==\"-1\":\n",
    "        value = st.norm.cdf(-d2) * K * np.exp(-r * tau) - st.norm.cdf(-d1)*S_0\n",
    "    return value\n",
    "\n",
    "sigma_imp = ImpliedVolatility(CP,S_0,K,sigmaInit,tau,r)\n",
    "message = '''Implied volatility for CallPrice= {}, strike K={}, \n",
    "      maturity T= {}, interest rate r= {} and initial stock S_0={} \n",
    "      equals to sigma_imp = {:.7f}'''.format(V_market,K,tau,r,S_0,sigma_imp)\n",
    "            \n",
    "print(message)\n",
    "\n",
    "# Check! \n",
    "val = BS_Call_Option_Price(CP,S_0,K,sigma_imp,tau,r)\n",
    "print('Option Price for implied volatility of {0} is equal to {1}'.format(sigma_imp, val))"
   ]
  },
  {
   "cell_type": "code",
   "execution_count": null,
   "id": "d667aad3-74f4-4683-9e01-af86d4fd9752",
   "metadata": {},
   "outputs": [],
   "source": []
  },
  {
   "cell_type": "code",
   "execution_count": null,
   "id": "f0392ad2-8d2d-4d1c-b1eb-212b2721824e",
   "metadata": {},
   "outputs": [],
   "source": []
  }
 ],
 "metadata": {
  "kernelspec": {
   "display_name": "Python 3 (ipykernel)",
   "language": "python",
   "name": "python3"
  },
  "language_info": {
   "codemirror_mode": {
    "name": "ipython",
    "version": 3
   },
   "file_extension": ".py",
   "mimetype": "text/x-python",
   "name": "python",
   "nbconvert_exporter": "python",
   "pygments_lexer": "ipython3",
   "version": "3.11.7"
  }
 },
 "nbformat": 4,
 "nbformat_minor": 5
}
